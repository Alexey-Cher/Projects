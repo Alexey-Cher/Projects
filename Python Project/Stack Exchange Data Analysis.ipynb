{
 "cells": [
  {
   "cell_type": "code",
   "execution_count": 12,
   "metadata": {},
   "outputs": [],
   "source": [
    "import pandas as pd\n",
    "import numpy as np\n",
    "import datetime as dt\n",
    "import matplotlib.pyplot as plt"
   ]
  },
  {
   "cell_type": "code",
   "execution_count": 13,
   "metadata": {},
   "outputs": [],
   "source": [
    "comments = pd.read_csv(r'C:\\Users\\alexe\\Desktop\\Stack Exchange\\comments.csv',parse_dates = ['CreationDate'])\n",
    "votes = pd.read_csv(r'C:\\Users\\alexe\\Desktop\\Stack Exchange\\votes.csv',parse_dates = ['CreationDate'])\n",
    "posts = pd.read_csv(r'C:\\Users\\alexe\\Desktop\\Stack Exchange\\posts.csv',parse_dates = ['CreationDate'])\n",
    "users = pd.read_csv(r'C:\\Users\\alexe\\Desktop\\Stack Exchange\\users.csv')"
   ]
  },
  {
   "cell_type": "code",
   "execution_count": 5,
   "metadata": {},
   "outputs": [
    {
     "data": {
      "text/html": [
       "<div>\n",
       "<style scoped>\n",
       "    .dataframe tbody tr th:only-of-type {\n",
       "        vertical-align: middle;\n",
       "    }\n",
       "\n",
       "    .dataframe tbody tr th {\n",
       "        vertical-align: top;\n",
       "    }\n",
       "\n",
       "    .dataframe thead th {\n",
       "        text-align: right;\n",
       "    }\n",
       "</style>\n",
       "<table border=\"1\" class=\"dataframe\">\n",
       "  <thead>\n",
       "    <tr style=\"text-align: right;\">\n",
       "      <th></th>\n",
       "      <th>Id</th>\n",
       "      <th>PostId</th>\n",
       "      <th>Text</th>\n",
       "      <th>CreationDate</th>\n",
       "      <th>UserId</th>\n",
       "    </tr>\n",
       "  </thead>\n",
       "  <tbody>\n",
       "    <tr>\n",
       "      <th>0</th>\n",
       "      <td>2</td>\n",
       "      <td>1138</td>\n",
       "      <td>Sure, I edited the question accordingly.</td>\n",
       "      <td>2012-12-19 02:58:04.620</td>\n",
       "      <td>548</td>\n",
       "    </tr>\n",
       "  </tbody>\n",
       "</table>\n",
       "</div>"
      ],
      "text/plain": [
       "   Id  PostId                                      Text  \\\n",
       "0   2    1138  Sure, I edited the question accordingly.   \n",
       "\n",
       "             CreationDate  UserId  \n",
       "0 2012-12-19 02:58:04.620     548  "
      ]
     },
     "execution_count": 5,
     "metadata": {},
     "output_type": "execute_result"
    }
   ],
   "source": [
    "comments.head(1)"
   ]
  },
  {
   "cell_type": "code",
   "execution_count": 6,
   "metadata": {},
   "outputs": [
    {
     "data": {
      "text/html": [
       "<div>\n",
       "<style scoped>\n",
       "    .dataframe tbody tr th:only-of-type {\n",
       "        vertical-align: middle;\n",
       "    }\n",
       "\n",
       "    .dataframe tbody tr th {\n",
       "        vertical-align: top;\n",
       "    }\n",
       "\n",
       "    .dataframe thead th {\n",
       "        text-align: right;\n",
       "    }\n",
       "</style>\n",
       "<table border=\"1\" class=\"dataframe\">\n",
       "  <thead>\n",
       "    <tr style=\"text-align: right;\">\n",
       "      <th></th>\n",
       "      <th>Id</th>\n",
       "      <th>PostId</th>\n",
       "      <th>CreationDate</th>\n",
       "      <th>UserId</th>\n",
       "    </tr>\n",
       "  </thead>\n",
       "  <tbody>\n",
       "    <tr>\n",
       "      <th>0</th>\n",
       "      <td>3</td>\n",
       "      <td>1</td>\n",
       "      <td>2011-11-30</td>\n",
       "      <td>231</td>\n",
       "    </tr>\n",
       "  </tbody>\n",
       "</table>\n",
       "</div>"
      ],
      "text/plain": [
       "   Id  PostId CreationDate  UserId\n",
       "0   3       1   2011-11-30     231"
      ]
     },
     "execution_count": 6,
     "metadata": {},
     "output_type": "execute_result"
    }
   ],
   "source": [
    "votes.head(1)"
   ]
  },
  {
   "cell_type": "code",
   "execution_count": 94,
   "metadata": {},
   "outputs": [
    {
     "data": {
      "text/html": [
       "<div>\n",
       "<style scoped>\n",
       "    .dataframe tbody tr th:only-of-type {\n",
       "        vertical-align: middle;\n",
       "    }\n",
       "\n",
       "    .dataframe tbody tr th {\n",
       "        vertical-align: top;\n",
       "    }\n",
       "\n",
       "    .dataframe thead th {\n",
       "        text-align: right;\n",
       "    }\n",
       "</style>\n",
       "<table border=\"1\" class=\"dataframe\">\n",
       "  <thead>\n",
       "    <tr style=\"text-align: right;\">\n",
       "      <th></th>\n",
       "      <th>Id</th>\n",
       "      <th>CreationDate</th>\n",
       "      <th>Score</th>\n",
       "      <th>ViewCount</th>\n",
       "      <th>Body</th>\n",
       "      <th>OwnerUserId</th>\n",
       "      <th>LastEditorUserId</th>\n",
       "      <th>LastEditDate</th>\n",
       "      <th>LastActivityDate</th>\n",
       "      <th>Title</th>\n",
       "      <th>Tags</th>\n",
       "      <th>ClosedDate</th>\n",
       "    </tr>\n",
       "  </thead>\n",
       "  <tbody>\n",
       "    <tr>\n",
       "      <th>0</th>\n",
       "      <td>1</td>\n",
       "      <td>2011-11-30 19:15:54.070</td>\n",
       "      <td>25</td>\n",
       "      <td>1526</td>\n",
       "      <td>&lt;p&gt;Some comedian/actors are given creative fre...</td>\n",
       "      <td>1562</td>\n",
       "      <td>532</td>\n",
       "      <td>2013-09-25 14:15:14.257</td>\n",
       "      <td>2013-09-25 14:15:14.257</td>\n",
       "      <td>To what extent were the actors in Wedding Cras...</td>\n",
       "      <td>&lt;wedding-crashers&gt;</td>\n",
       "      <td>2011-12-24 19:15:54.070</td>\n",
       "    </tr>\n",
       "  </tbody>\n",
       "</table>\n",
       "</div>"
      ],
      "text/plain": [
       "   Id             CreationDate  Score  ViewCount  \\\n",
       "0   1  2011-11-30 19:15:54.070     25       1526   \n",
       "\n",
       "                                                Body  OwnerUserId  \\\n",
       "0  <p>Some comedian/actors are given creative fre...         1562   \n",
       "\n",
       "   LastEditorUserId             LastEditDate         LastActivityDate  \\\n",
       "0               532  2013-09-25 14:15:14.257  2013-09-25 14:15:14.257   \n",
       "\n",
       "                                               Title                Tags  \\\n",
       "0  To what extent were the actors in Wedding Cras...  <wedding-crashers>   \n",
       "\n",
       "                ClosedDate  \n",
       "0  2011-12-24 19:15:54.070  "
      ]
     },
     "execution_count": 94,
     "metadata": {},
     "output_type": "execute_result"
    }
   ],
   "source": [
    "posts.head(1)"
   ]
  },
  {
   "cell_type": "code",
   "execution_count": 7,
   "metadata": {},
   "outputs": [
    {
     "data": {
      "text/html": [
       "<div>\n",
       "<style scoped>\n",
       "    .dataframe tbody tr th:only-of-type {\n",
       "        vertical-align: middle;\n",
       "    }\n",
       "\n",
       "    .dataframe tbody tr th {\n",
       "        vertical-align: top;\n",
       "    }\n",
       "\n",
       "    .dataframe thead th {\n",
       "        text-align: right;\n",
       "    }\n",
       "</style>\n",
       "<table border=\"1\" class=\"dataframe\">\n",
       "  <thead>\n",
       "    <tr style=\"text-align: right;\">\n",
       "      <th></th>\n",
       "      <th>Id</th>\n",
       "      <th>Reputation</th>\n",
       "      <th>CreationDate</th>\n",
       "      <th>DisplayName</th>\n",
       "      <th>LastAccessDate</th>\n",
       "      <th>WebsiteUrl</th>\n",
       "      <th>Location</th>\n",
       "      <th>Age</th>\n",
       "      <th>AboutMe</th>\n",
       "      <th>Views</th>\n",
       "      <th>UpVotes</th>\n",
       "      <th>DownVotes</th>\n",
       "    </tr>\n",
       "  </thead>\n",
       "  <tbody>\n",
       "    <tr>\n",
       "      <th>0</th>\n",
       "      <td>-1</td>\n",
       "      <td>1</td>\n",
       "      <td>2011-11-30 17:13:53.160</td>\n",
       "      <td>Community</td>\n",
       "      <td>2011-11-30 17:13:53.160</td>\n",
       "      <td>http://meta.stackexchange.com/</td>\n",
       "      <td>on the server farm</td>\n",
       "      <td>NaN</td>\n",
       "      <td>&lt;p&gt;Hi, I'm not really a person.&lt;/p&gt;  &lt;p&gt;I'm a ...</td>\n",
       "      <td>0</td>\n",
       "      <td>1542</td>\n",
       "      <td>1233</td>\n",
       "    </tr>\n",
       "  </tbody>\n",
       "</table>\n",
       "</div>"
      ],
      "text/plain": [
       "   Id  Reputation             CreationDate DisplayName  \\\n",
       "0  -1           1  2011-11-30 17:13:53.160   Community   \n",
       "\n",
       "            LastAccessDate                      WebsiteUrl  \\\n",
       "0  2011-11-30 17:13:53.160  http://meta.stackexchange.com/   \n",
       "\n",
       "             Location  Age                                            AboutMe  \\\n",
       "0  on the server farm  NaN  <p>Hi, I'm not really a person.</p>  <p>I'm a ...   \n",
       "\n",
       "   Views  UpVotes  DownVotes  \n",
       "0      0     1542       1233  "
      ]
     },
     "execution_count": 7,
     "metadata": {},
     "output_type": "execute_result"
    }
   ],
   "source": [
    "users.head(1)"
   ]
  },
  {
   "cell_type": "markdown",
   "metadata": {},
   "source": [
    "# Basic Analysis"
   ]
  },
  {
   "cell_type": "markdown",
   "metadata": {},
   "source": [
    "1.How many post were made each year?"
   ]
  },
  {
   "cell_type": "code",
   "execution_count": 24,
   "metadata": {},
   "outputs": [
    {
     "data": {
      "text/html": [
       "<div>\n",
       "<style scoped>\n",
       "    .dataframe tbody tr th:only-of-type {\n",
       "        vertical-align: middle;\n",
       "    }\n",
       "\n",
       "    .dataframe tbody tr th {\n",
       "        vertical-align: top;\n",
       "    }\n",
       "\n",
       "    .dataframe thead th {\n",
       "        text-align: right;\n",
       "    }\n",
       "</style>\n",
       "<table border=\"1\" class=\"dataframe\">\n",
       "  <thead>\n",
       "    <tr style=\"text-align: right;\">\n",
       "      <th></th>\n",
       "      <th>Posts</th>\n",
       "    </tr>\n",
       "    <tr>\n",
       "      <th>Year</th>\n",
       "      <th></th>\n",
       "    </tr>\n",
       "  </thead>\n",
       "  <tbody>\n",
       "    <tr>\n",
       "      <th>2011</th>\n",
       "      <td>156</td>\n",
       "    </tr>\n",
       "    <tr>\n",
       "      <th>2012</th>\n",
       "      <td>1065</td>\n",
       "    </tr>\n",
       "    <tr>\n",
       "      <th>2013</th>\n",
       "      <td>1018</td>\n",
       "    </tr>\n",
       "  </tbody>\n",
       "</table>\n",
       "</div>"
      ],
      "text/plain": [
       "      Posts\n",
       "Year       \n",
       "2011    156\n",
       "2012   1065\n",
       "2013   1018"
      ]
     },
     "execution_count": 24,
     "metadata": {},
     "output_type": "execute_result"
    }
   ],
   "source": [
    "posts['Year'] = posts['CreationDate'].dt.year\n",
    "posts.groupby('Year')['Id'].count().to_frame().rename(columns={'Id':'Posts'})"
   ]
  },
  {
   "cell_type": "code",
   "execution_count": 92,
   "metadata": {},
   "outputs": [
    {
     "data": {
      "image/png": "[encoded data removed]",
      "text/plain": [
       "<Figure size 432x288 with 1 Axes>"
      ]
     },
     "metadata": {
      "needs_background": "light"
     },
     "output_type": "display_data"
    }
   ],
   "source": [
    "#Visualization_Part_1_Q1\n",
    "\n",
    "posts['Year'] = posts['CreationDate'].dt.year\n",
    "posts['Posts'] = posts.groupby('Year')['Id'].count().to_frame().rename(columns={'Id':'Posts'})\n",
    "\n",
    "x = posts['Year']\n",
    "y = posts['Posts']\n",
    "\n",
    "plt.bar(x.index,y,label=\"Post\",color='Silver')\n",
    "\n",
    "plt.xlabel('Years')\n",
    "plt.ylabel('Posts')\n",
    "plt.title('Posts by years')\n",
    "plt.legend()\n",
    "plt.show()"
   ]
  },
  {
   "cell_type": "markdown",
   "metadata": {},
   "source": [
    "2.How many votes were made in each day of the week (Sunday,Monday,Tuesday...)?"
   ]
  },
  {
   "cell_type": "code",
   "execution_count": 14,
   "metadata": {},
   "outputs": [
    {
     "data": {
      "text/html": [
       "<div>\n",
       "<style scoped>\n",
       "    .dataframe tbody tr th:only-of-type {\n",
       "        vertical-align: middle;\n",
       "    }\n",
       "\n",
       "    .dataframe tbody tr th {\n",
       "        vertical-align: top;\n",
       "    }\n",
       "\n",
       "    .dataframe thead th {\n",
       "        text-align: right;\n",
       "    }\n",
       "</style>\n",
       "<table border=\"1\" class=\"dataframe\">\n",
       "  <thead>\n",
       "    <tr style=\"text-align: right;\">\n",
       "      <th></th>\n",
       "      <th>Votes</th>\n",
       "    </tr>\n",
       "    <tr>\n",
       "      <th>Day</th>\n",
       "      <th></th>\n",
       "    </tr>\n",
       "  </thead>\n",
       "  <tbody>\n",
       "    <tr>\n",
       "      <th>Thursday</th>\n",
       "      <td>869</td>\n",
       "    </tr>\n",
       "    <tr>\n",
       "      <th>Friday</th>\n",
       "      <td>735</td>\n",
       "    </tr>\n",
       "    <tr>\n",
       "      <th>Wednesday</th>\n",
       "      <td>554</td>\n",
       "    </tr>\n",
       "    <tr>\n",
       "      <th>Saturday</th>\n",
       "      <td>376</td>\n",
       "    </tr>\n",
       "    <tr>\n",
       "      <th>Tuesday</th>\n",
       "      <td>354</td>\n",
       "    </tr>\n",
       "    <tr>\n",
       "      <th>Monday</th>\n",
       "      <td>282</td>\n",
       "    </tr>\n",
       "    <tr>\n",
       "      <th>Sunday</th>\n",
       "      <td>189</td>\n",
       "    </tr>\n",
       "  </tbody>\n",
       "</table>\n",
       "</div>"
      ],
      "text/plain": [
       "           Votes\n",
       "Day             \n",
       "Thursday     869\n",
       "Friday       735\n",
       "Wednesday    554\n",
       "Saturday     376\n",
       "Tuesday      354\n",
       "Monday       282\n",
       "Sunday       189"
      ]
     },
     "execution_count": 14,
     "metadata": {},
     "output_type": "execute_result"
    }
   ],
   "source": [
    "votes['day_week']=votes['CreationDate'].dt.weekday\n",
    "\n",
    "def weekday_func(day_week):\n",
    "    if day_week == 6:\n",
    "        output = 'Sunday'\n",
    "    elif day_week == 0:\n",
    "        output = 'Monday'\n",
    "    elif day_week == 1:\n",
    "        output = 'Tuesday'\n",
    "    elif day_week == 2:\n",
    "        output = 'Wednesday'\n",
    "    elif day_week == 3:\n",
    "        output = 'Thursday'\n",
    "    elif day_week == 4:\n",
    "        output = 'Friday'\n",
    "    else:\n",
    "        output = 'Saturday'\n",
    "    return output\n",
    "\n",
    "votes['Day'] = votes['day_week'].apply(weekday_func)\n",
    "\n",
    "votes.groupby('Day')['Id'].count().to_frame().rename(columns={'Id':'Votes'})\\\n",
    ".sort_values('Votes', ascending = False)"
   ]
  },
  {
   "cell_type": "code",
   "execution_count": 19,
   "metadata": {},
   "outputs": [
    {
     "data": {
      "image/png": "[encoded data removed]",
      "text/plain": [
       "<Figure size 432x288 with 1 Axes>"
      ]
     },
     "metadata": {
      "needs_background": "light"
     },
     "output_type": "display_data"
    }
   ],
   "source": [
    "#Visualization_Part_1_Q2\n",
    "\n",
    "votes['Day'] = votes['day_week'].apply(weekday_func)\n",
    "votes_groupby = votes.groupby('Day')['Id'].count().to_frame().rename(columns={'Id':'Votes'})\\\n",
    ".sort_values('Votes', ascending = False)\n",
    "\n",
    "\n",
    "x = votes_groupby\n",
    "y = votes_groupby['Votes']\n",
    "\n",
    "plt.bar(x.index,y,label='Votes')\n",
    "plt.xticks(rotation = 90)\n",
    "\n",
    "plt.xlabel('Day')\n",
    "plt.ylabel('Votes')\n",
    "\n",
    "plt.title('Votes by Days')\n",
    "plt.legend()\n",
    "\n",
    "plt.show()\n"
   ]
  },
  {
   "cell_type": "markdown",
   "metadata": {},
   "source": [
    "3.List all comments created on September 19th, 2012"
   ]
  },
  {
   "cell_type": "code",
   "execution_count": 97,
   "metadata": {},
   "outputs": [
    {
     "data": {
      "text/html": [
       "<div>\n",
       "<style scoped>\n",
       "    .dataframe tbody tr th:only-of-type {\n",
       "        vertical-align: middle;\n",
       "    }\n",
       "\n",
       "    .dataframe tbody tr th {\n",
       "        vertical-align: top;\n",
       "    }\n",
       "\n",
       "    .dataframe thead th {\n",
       "        text-align: right;\n",
       "    }\n",
       "</style>\n",
       "<table border=\"1\" class=\"dataframe\">\n",
       "  <thead>\n",
       "    <tr style=\"text-align: right;\">\n",
       "      <th></th>\n",
       "      <th>Id</th>\n",
       "      <th>PostId</th>\n",
       "      <th>Text</th>\n",
       "      <th>CreationDate</th>\n",
       "      <th>UserId</th>\n",
       "      <th>CreationDate_Dateonly</th>\n",
       "      <th>CreationDate_justdate</th>\n",
       "      <th>CreationDate_Justdate</th>\n",
       "    </tr>\n",
       "  </thead>\n",
       "  <tbody>\n",
       "    <tr>\n",
       "      <th>1414</th>\n",
       "      <td>3476</td>\n",
       "      <td>887</td>\n",
       "      <td>I had the same thoughts. I'm wondering if ther...</td>\n",
       "      <td>2012-09-19 10:34:12.983</td>\n",
       "      <td>233</td>\n",
       "      <td>2012-09-19</td>\n",
       "      <td>2012-09-19</td>\n",
       "      <td>2012-09-19</td>\n",
       "    </tr>\n",
       "    <tr>\n",
       "      <th>1484</th>\n",
       "      <td>3623</td>\n",
       "      <td>890</td>\n",
       "      <td>hmmm he's described as \"an over-the-top public...</td>\n",
       "      <td>2012-09-19 18:23:37.193</td>\n",
       "      <td>126</td>\n",
       "      <td>2012-09-19</td>\n",
       "      <td>2012-09-19</td>\n",
       "      <td>2012-09-19</td>\n",
       "    </tr>\n",
       "  </tbody>\n",
       "</table>\n",
       "</div>"
      ],
      "text/plain": [
       "        Id  PostId                                               Text  \\\n",
       "1414  3476     887  I had the same thoughts. I'm wondering if ther...   \n",
       "1484  3623     890  hmmm he's described as \"an over-the-top public...   \n",
       "\n",
       "                CreationDate  UserId CreationDate_Dateonly  \\\n",
       "1414 2012-09-19 10:34:12.983     233            2012-09-19   \n",
       "1484 2012-09-19 18:23:37.193     126            2012-09-19   \n",
       "\n",
       "     CreationDate_justdate CreationDate_Justdate  \n",
       "1414            2012-09-19            2012-09-19  \n",
       "1484            2012-09-19            2012-09-19  "
      ]
     },
     "execution_count": 97,
     "metadata": {},
     "output_type": "execute_result"
    }
   ],
   "source": [
    "comments['CreationDate'] = pd.to_datetime(comments['CreationDate'])\n",
    "comments['CreationDate_justdate'] = comments['CreationDate'].dt.floor('d')\n",
    "\n",
    "date_filter = comments['CreationDate_justdate'] == '2012-09-19'\n",
    "\n",
    "comments[date_filter]"
   ]
  },
  {
   "cell_type": "markdown",
   "metadata": {},
   "source": [
    "4.List all users under the age of 33, living in London"
   ]
  },
  {
   "cell_type": "code",
   "execution_count": 72,
   "metadata": {},
   "outputs": [
    {
     "data": {
      "text/html": [
       "<div>\n",
       "<style scoped>\n",
       "    .dataframe tbody tr th:only-of-type {\n",
       "        vertical-align: middle;\n",
       "    }\n",
       "\n",
       "    .dataframe tbody tr th {\n",
       "        vertical-align: top;\n",
       "    }\n",
       "\n",
       "    .dataframe thead th {\n",
       "        text-align: right;\n",
       "    }\n",
       "</style>\n",
       "<table border=\"1\" class=\"dataframe\">\n",
       "  <thead>\n",
       "    <tr style=\"text-align: right;\">\n",
       "      <th></th>\n",
       "      <th>Id</th>\n",
       "      <th>Reputation</th>\n",
       "      <th>CreationDate</th>\n",
       "      <th>DisplayName</th>\n",
       "      <th>LastAccessDate</th>\n",
       "      <th>WebsiteUrl</th>\n",
       "      <th>Location</th>\n",
       "      <th>Age</th>\n",
       "      <th>AboutMe</th>\n",
       "      <th>Views</th>\n",
       "      <th>UpVotes</th>\n",
       "      <th>DownVotes</th>\n",
       "    </tr>\n",
       "  </thead>\n",
       "  <tbody>\n",
       "    <tr>\n",
       "      <th>27</th>\n",
       "      <td>27</td>\n",
       "      <td>101</td>\n",
       "      <td>2011-11-30 18:58:00.620</td>\n",
       "      <td>Noldorin</td>\n",
       "      <td>2011-12-27 00:54:12.993</td>\n",
       "      <td>http://noldorin.com/</td>\n",
       "      <td>London, United Kingdom</td>\n",
       "      <td>24.0</td>\n",
       "      <td>&lt;p&gt;entrepreneur; graduate in mathematics / the...</td>\n",
       "      <td>0</td>\n",
       "      <td>0</td>\n",
       "      <td>0</td>\n",
       "    </tr>\n",
       "    <tr>\n",
       "      <th>155</th>\n",
       "      <td>160</td>\n",
       "      <td>101</td>\n",
       "      <td>2011-12-04 14:01:19.123</td>\n",
       "      <td>Willbill</td>\n",
       "      <td>2013-02-06 10:19:52.963</td>\n",
       "      <td>NaN</td>\n",
       "      <td>London, United Kingdom</td>\n",
       "      <td>31.0</td>\n",
       "      <td>NaN</td>\n",
       "      <td>1</td>\n",
       "      <td>6</td>\n",
       "      <td>0</td>\n",
       "    </tr>\n",
       "    <tr>\n",
       "      <th>451</th>\n",
       "      <td>473</td>\n",
       "      <td>101</td>\n",
       "      <td>2011-12-29 16:57:11.727</td>\n",
       "      <td>bobble14988</td>\n",
       "      <td>2011-12-29 16:57:11.727</td>\n",
       "      <td>http://www.bobbleworks.co.uk</td>\n",
       "      <td>London, United Kingdom</td>\n",
       "      <td>26.0</td>\n",
       "      <td>&lt;p&gt;Third year university student who recently ...</td>\n",
       "      <td>0</td>\n",
       "      <td>0</td>\n",
       "      <td>0</td>\n",
       "    </tr>\n",
       "  </tbody>\n",
       "</table>\n",
       "</div>"
      ],
      "text/plain": [
       "      Id  Reputation             CreationDate  DisplayName  \\\n",
       "27    27         101  2011-11-30 18:58:00.620     Noldorin   \n",
       "155  160         101  2011-12-04 14:01:19.123     Willbill   \n",
       "451  473         101  2011-12-29 16:57:11.727  bobble14988   \n",
       "\n",
       "              LastAccessDate                    WebsiteUrl  \\\n",
       "27   2011-12-27 00:54:12.993          http://noldorin.com/   \n",
       "155  2013-02-06 10:19:52.963                           NaN   \n",
       "451  2011-12-29 16:57:11.727  http://www.bobbleworks.co.uk   \n",
       "\n",
       "                   Location   Age  \\\n",
       "27   London, United Kingdom  24.0   \n",
       "155  London, United Kingdom  31.0   \n",
       "451  London, United Kingdom  26.0   \n",
       "\n",
       "                                               AboutMe  Views  UpVotes  \\\n",
       "27   <p>entrepreneur; graduate in mathematics / the...      0        0   \n",
       "155                                                NaN      1        6   \n",
       "451  <p>Third year university student who recently ...      0        0   \n",
       "\n",
       "     DownVotes  \n",
       "27           0  \n",
       "155          0  \n",
       "451          0  "
      ]
     },
     "execution_count": 72,
     "metadata": {},
     "output_type": "execute_result"
    }
   ],
   "source": [
    "filter_1 = users['Age'].notnull()\n",
    "filter_2 = users['Location'].notnull()\n",
    "\n",
    "filter_notnull = filter_1 & filter_2\n",
    "filter_age_loc = users['Location'].str.contains('London') & (users['Age'] < 33)\n",
    "\n",
    "users[filter_notnull & filter_age_loc].head(3)"
   ]
  },
  {
   "cell_type": "markdown",
   "metadata": {},
   "source": [
    "# Advanced Analysis"
   ]
  },
  {
   "cell_type": "markdown",
   "metadata": {},
   "source": [
    "1.Display the number of votes for each post title"
   ]
  },
  {
   "cell_type": "code",
   "execution_count": 26,
   "metadata": {},
   "outputs": [
    {
     "data": {
      "text/html": [
       "<div>\n",
       "<style scoped>\n",
       "    .dataframe tbody tr th:only-of-type {\n",
       "        vertical-align: middle;\n",
       "    }\n",
       "\n",
       "    .dataframe tbody tr th {\n",
       "        vertical-align: top;\n",
       "    }\n",
       "\n",
       "    .dataframe thead th {\n",
       "        text-align: right;\n",
       "    }\n",
       "</style>\n",
       "<table border=\"1\" class=\"dataframe\">\n",
       "  <thead>\n",
       "    <tr style=\"text-align: right;\">\n",
       "      <th></th>\n",
       "      <th>Votes</th>\n",
       "    </tr>\n",
       "    <tr>\n",
       "      <th>Title</th>\n",
       "      <th></th>\n",
       "    </tr>\n",
       "  </thead>\n",
       "  <tbody>\n",
       "    <tr>\n",
       "      <th>\"Are you gonna get that?\" \"Get what?\" Then a red phone rings</th>\n",
       "      <td>0</td>\n",
       "    </tr>\n",
       "    <tr>\n",
       "      <th>\"In the next episode...\" plot points don't appear in the next episode?</th>\n",
       "      <td>0</td>\n",
       "    </tr>\n",
       "    <tr>\n",
       "      <th>\"No Country for Old Men\", why is it called so?</th>\n",
       "      <td>0</td>\n",
       "    </tr>\n",
       "  </tbody>\n",
       "</table>\n",
       "</div>"
      ],
      "text/plain": [
       "                                                    Votes\n",
       "Title                                                    \n",
       "\"Are you gonna get that?\" \"Get what?\" Then a re...      0\n",
       "\"In the next episode...\" plot points don't appe...      0\n",
       "\"No Country for Old Men\", why is it called so?          0"
      ]
     },
     "execution_count": 26,
     "metadata": {},
     "output_type": "execute_result"
    }
   ],
   "source": [
    "my_join = votes.merge(posts,\n",
    "                      how = 'right',\n",
    "                      left_on = 'PostId',\n",
    "                      right_on = 'Id')\n",
    "\n",
    "my_join.groupby('Title')['Id_x'].count().to_frame().rename(columns={'Id_x':'Votes'}).head(3)"
   ]
  },
  {
   "cell_type": "code",
   "execution_count": 63,
   "metadata": {},
   "outputs": [
    {
     "data": {
      "image/png": "[encoded data removed]",
      "text/plain": [
       "<Figure size 720x360 with 1 Axes>"
      ]
     },
     "metadata": {
      "needs_background": "light"
     },
     "output_type": "display_data"
    }
   ],
   "source": [
    "#Visualization_Part_2_Q1\n",
    "\n",
    "my_join = votes.merge(posts,\n",
    "                      how = 'right',\n",
    "                      left_on = 'PostId',\n",
    "                      right_on = 'Id')\n",
    "data = my_join.groupby('Title')['Id_x'].count().to_frame()\\\n",
    ".rename(columns={'Id_x':'Votes'})\\\n",
    ".sort_values('Votes', ascending=False).head(10)\n",
    "\n",
    "\n",
    "x = data.index\n",
    "y = data['Votes']\n",
    "\n",
    "plt.figure(figsize = (10,5))\n",
    "plt.xticks(rotation = 90)\n",
    "\n",
    "plt.bar(x,y,label='Votes',color='Gold')\n",
    "\n",
    "\n",
    "plt.xlabel('Posts Title')\n",
    "plt.ylabel('Votes')\n",
    "plt.title('Number of votes by post title')\n",
    "plt.legend()\n",
    "plt.show()"
   ]
  },
  {
   "cell_type": "markdown",
   "metadata": {},
   "source": [
    "2.Display posts with comments created by users living in the same location as the post creator"
   ]
  },
  {
   "cell_type": "code",
   "execution_count": 222,
   "metadata": {
    "scrolled": true
   },
   "outputs": [
    {
     "data": {
      "text/html": [
       "<div>\n",
       "<style scoped>\n",
       "    .dataframe tbody tr th:only-of-type {\n",
       "        vertical-align: middle;\n",
       "    }\n",
       "\n",
       "    .dataframe tbody tr th {\n",
       "        vertical-align: top;\n",
       "    }\n",
       "\n",
       "    .dataframe thead th {\n",
       "        text-align: right;\n",
       "    }\n",
       "</style>\n",
       "<table border=\"1\" class=\"dataframe\">\n",
       "  <thead>\n",
       "    <tr style=\"text-align: right;\">\n",
       "      <th></th>\n",
       "      <th>Location</th>\n",
       "      <th>Text</th>\n",
       "    </tr>\n",
       "  </thead>\n",
       "  <tbody>\n",
       "    <tr>\n",
       "      <th>0</th>\n",
       "      <td>Princeton, NJ</td>\n",
       "      <td>Sure, I edited the question accordingly.</td>\n",
       "    </tr>\n",
       "    <tr>\n",
       "      <th>1</th>\n",
       "      <td>Princeton, NJ</td>\n",
       "      <td>In my opinion, the different thought about ted...</td>\n",
       "    </tr>\n",
       "    <tr>\n",
       "      <th>2</th>\n",
       "      <td>Princeton, NJ</td>\n",
       "      <td>Lauren, international versions of shows like T...</td>\n",
       "    </tr>\n",
       "  </tbody>\n",
       "</table>\n",
       "</div>"
      ],
      "text/plain": [
       "        Location                                               Text\n",
       "0  Princeton, NJ           Sure, I edited the question accordingly.\n",
       "1  Princeton, NJ  In my opinion, the different thought about ted...\n",
       "2  Princeton, NJ  Lauren, international versions of shows like T..."
      ]
     },
     "execution_count": 222,
     "metadata": {},
     "output_type": "execute_result"
    }
   ],
   "source": [
    "join_1 = comments.merge(users,\n",
    "                        how = 'inner',\n",
    "                        left_on = 'UserId',\n",
    "                        right_on = 'Id')\n",
    "\n",
    "join_2 = join_1.merge(posts,\n",
    "                     how = 'inner',\n",
    "                     left_on = 'UserId',\n",
    "                     right_on = 'Id')\n",
    "\n",
    "filter_loc = join_1['Location'] == join_2['Location']\n",
    "join_1[['Location','Text']][filter_loc].head(3)"
   ]
  },
  {
   "cell_type": "markdown",
   "metadata": {},
   "source": [
    "3.How many users have never voted?"
   ]
  },
  {
   "cell_type": "code",
   "execution_count": 87,
   "metadata": {},
   "outputs": [
    {
     "data": {
      "text/plain": [
       "'From 1778 users of Movies & TV Stack Exchange 355 users have never voted'"
      ]
     },
     "execution_count": 87,
     "metadata": {},
     "output_type": "execute_result"
    }
   ],
   "source": [
    "join_uv = users.merge(votes,\n",
    "                how = 'left',\n",
    "                left_on = 'Id',\n",
    "                right_on = 'UserId')\n",
    "\n",
    "filter_null = join_uv['PostId'].isnull()\n",
    "never_voted = join_uv[filter_null]['Id_x'].count()\n",
    "num_users = users['Id'].count()\n",
    "\n",
    "\"From {} users of Movies & TV Stack Exchange\\\n",
    " {} users have never voted\".format(num_users,never_voted)\n"
   ]
  },
  {
   "cell_type": "code",
   "execution_count": 73,
   "metadata": {},
   "outputs": [
    {
     "data": {
      "image/png": "[encoded data removed]",
      "text/plain": [
       "<Figure size 432x288 with 1 Axes>"
      ]
     },
     "metadata": {},
     "output_type": "display_data"
    }
   ],
   "source": [
    "#Visualization_Part_2_Q3\n",
    "\n",
    "p_size = [1778,355]\n",
    "p_labels = 'All users', 'Never voted'\n",
    "p_colors = ['Blue','Orange']\n",
    "\n",
    "plt.pie(p_size,labels = p_labels,colors = p_colors, autopct='%.f%%')\n",
    "\n",
    "plt.legend(p_labels)\n",
    "plt.show()\n"
   ]
  },
  {
   "cell_type": "markdown",
   "metadata": {},
   "source": [
    "4.Display all posts having the highest amount of comments"
   ]
  },
  {
   "cell_type": "code",
   "execution_count": 75,
   "metadata": {},
   "outputs": [
    {
     "data": {
      "text/html": [
       "<div>\n",
       "<style scoped>\n",
       "    .dataframe tbody tr th:only-of-type {\n",
       "        vertical-align: middle;\n",
       "    }\n",
       "\n",
       "    .dataframe tbody tr th {\n",
       "        vertical-align: top;\n",
       "    }\n",
       "\n",
       "    .dataframe thead th {\n",
       "        text-align: right;\n",
       "    }\n",
       "</style>\n",
       "<table border=\"1\" class=\"dataframe\">\n",
       "  <thead>\n",
       "    <tr style=\"text-align: right;\">\n",
       "      <th></th>\n",
       "      <th>Amount_of_comments</th>\n",
       "    </tr>\n",
       "    <tr>\n",
       "      <th>Title</th>\n",
       "      <th></th>\n",
       "    </tr>\n",
       "  </thead>\n",
       "  <tbody>\n",
       "    <tr>\n",
       "      <th>How much money did it take to run \"The Sting\"?</th>\n",
       "      <td>5</td>\n",
       "    </tr>\n",
       "    <tr>\n",
       "      <th>Old movie about two pilots and a cheating wife</th>\n",
       "      <td>5</td>\n",
       "    </tr>\n",
       "    <tr>\n",
       "      <th>What is Jerusalem worth?</th>\n",
       "      <td>5</td>\n",
       "    </tr>\n",
       "  </tbody>\n",
       "</table>\n",
       "</div>"
      ],
      "text/plain": [
       "                                                Amount_of_comments\n",
       "Title                                                             \n",
       "How much money did it take to run \"The Sting\"?                   5\n",
       "Old movie about two pilots and a cheating wife                   5\n",
       "What is Jerusalem worth?                                         5"
      ]
     },
     "execution_count": 75,
     "metadata": {},
     "output_type": "execute_result"
    }
   ],
   "source": [
    "join_pc = posts.merge(comments,\n",
    "                     how = 'inner',\n",
    "                     left_on = 'Id', \n",
    "                     right_on = 'PostId')\n",
    "\n",
    "join_pc.groupby('Title')['Id_y'].count().to_frame()\\\n",
    ".sort_values('Id_y',ascending = False)\\\n",
    ".rename(columns = {'Id_y':'Amount_of_comments'}).head(3)"
   ]
  },
  {
   "cell_type": "markdown",
   "metadata": {},
   "source": [
    "5.For each post, how many votes are coming from users living in Canada? \n",
    "\n",
    "What’s their percentage of the total number of votes?"
   ]
  },
  {
   "cell_type": "code",
   "execution_count": 66,
   "metadata": {},
   "outputs": [],
   "source": [
    "join_vp = votes.merge(posts,\n",
    "                    how = 'inner',\n",
    "                    left_on = 'PostId',\n",
    "                    right_on = 'Id')\n",
    "                    \n",
    "join_vpu = join_vp.merge(users,\n",
    "                      how = 'inner',\n",
    "                      left_on = 'UserId',\n",
    "                      right_on = 'Id')\n"
   ]
  },
  {
   "cell_type": "code",
   "execution_count": 67,
   "metadata": {},
   "outputs": [],
   "source": [
    "filter_notnull = ~ join_vpu['Location'].isnull()\n",
    "join_vpu = join_vpu[filter_notnull]"
   ]
  },
  {
   "cell_type": "code",
   "execution_count": 68,
   "metadata": {},
   "outputs": [],
   "source": [
    "country_filter = join_vpu['Location'].str.contains('Canada')\n",
    "\n",
    "votes_canada = join_vpu[country_filter].groupby('Title')['Location'].count().to_frame()\\\n",
    ".rename(columns={'Location':'Votes_Canada'})\n"
   ]
  },
  {
   "cell_type": "code",
   "execution_count": 69,
   "metadata": {},
   "outputs": [],
   "source": [
    "votes_all = join_vpu.groupby('Title')['Location'].count().to_frame()\\\n",
    ".rename(columns={'Location': 'Votes_Global'})\n"
   ]
  },
  {
   "cell_type": "code",
   "execution_count": 70,
   "metadata": {},
   "outputs": [
    {
     "data": {
      "text/html": [
       "<div>\n",
       "<style scoped>\n",
       "    .dataframe tbody tr th:only-of-type {\n",
       "        vertical-align: middle;\n",
       "    }\n",
       "\n",
       "    .dataframe tbody tr th {\n",
       "        vertical-align: top;\n",
       "    }\n",
       "\n",
       "    .dataframe thead th {\n",
       "        text-align: right;\n",
       "    }\n",
       "</style>\n",
       "<table border=\"1\" class=\"dataframe\">\n",
       "  <thead>\n",
       "    <tr style=\"text-align: right;\">\n",
       "      <th></th>\n",
       "      <th>Votes_Global</th>\n",
       "      <th>Votes_Canada</th>\n",
       "      <th>Percentage</th>\n",
       "    </tr>\n",
       "    <tr>\n",
       "      <th>Title</th>\n",
       "      <th></th>\n",
       "      <th></th>\n",
       "      <th></th>\n",
       "    </tr>\n",
       "  </thead>\n",
       "  <tbody>\n",
       "    <tr>\n",
       "      <th>\"Road\" picture about guys in a tank, possibly set in the Middle East</th>\n",
       "      <td>4</td>\n",
       "      <td>1.0</td>\n",
       "      <td>25.0</td>\n",
       "    </tr>\n",
       "    <tr>\n",
       "      <th>\"Rock TV\" animated/live action series from the early to mid 80s</th>\n",
       "      <td>3</td>\n",
       "      <td>NaN</td>\n",
       "      <td>NaN</td>\n",
       "    </tr>\n",
       "    <tr>\n",
       "      <th>\"The Club\" where Jerry Seinfeld performed</th>\n",
       "      <td>1</td>\n",
       "      <td>NaN</td>\n",
       "      <td>NaN</td>\n",
       "    </tr>\n",
       "  </tbody>\n",
       "</table>\n",
       "</div>"
      ],
      "text/plain": [
       "                                                    Votes_Global  \\\n",
       "Title                                                              \n",
       "\"Road\" picture about guys in a tank, possibly s...             4   \n",
       "\"Rock TV\" animated/live action series from the ...             3   \n",
       "\"The Club\" where Jerry Seinfeld performed                      1   \n",
       "\n",
       "                                                    Votes_Canada  Percentage  \n",
       "Title                                                                         \n",
       "\"Road\" picture about guys in a tank, possibly s...           1.0        25.0  \n",
       "\"Rock TV\" animated/live action series from the ...           NaN         NaN  \n",
       "\"The Club\" where Jerry Seinfeld performed                    NaN         NaN  "
      ]
     },
     "execution_count": 70,
     "metadata": {},
     "output_type": "execute_result"
    }
   ],
   "source": [
    "join_all_canada = votes_all.merge(votes_canada,\n",
    "                                   how = 'left',\n",
    "                                   left_on = 'Title',\n",
    "                                   right_on = 'Title')\n",
    "\n",
    "join_all_canada['Percentage'] = join_all_canada['Votes_Canada']/join_all_canada['Votes_Global']*100\n",
    "\n",
    "join_all_canada.head(3)"
   ]
  },
  {
   "cell_type": "markdown",
   "metadata": {},
   "source": [
    "6.How many hours in average, it takes to the first comment to be posted after a creation of a new post?"
   ]
  },
  {
   "cell_type": "code",
   "execution_count": 59,
   "metadata": {},
   "outputs": [
    {
     "data": {
      "text/plain": [
       "'0 days 07:09:06.153846153 it is average time, what takes to the first comment to be posted after a creation of a new post'"
      ]
     },
     "execution_count": 59,
     "metadata": {},
     "output_type": "execute_result"
    }
   ],
   "source": [
    "comments_min = comments.groupby('PostId')['CreationDate'].min()\n",
    "\n",
    "my_join = posts.merge(comments_min,\n",
    "                     how = 'inner',\n",
    "                     left_on = 'Id',\n",
    "                     right_on = 'PostId')\n",
    "\n",
    "\n",
    "my_join['Time_reaction'] = (my_join['CreationDate_y'] - my_join['CreationDate_x'])\n",
    "reaction_time = my_join['Time_reaction'].mean()\n",
    "\n",
    "'{} it is average time, what takes to the first comment to be posted after a creation of a new post'.format(reaction_time)"
   ]
  },
  {
   "cell_type": "markdown",
   "metadata": {},
   "source": [
    "7.Whats the most common post tag?"
   ]
  },
  {
   "cell_type": "code",
   "execution_count": 64,
   "metadata": {},
   "outputs": [
    {
     "data": {
      "text/plain": [
       "\"The number of uses, and the most common post tag [651, '<plot-explanation']\""
      ]
     },
     "execution_count": 64,
     "metadata": {},
     "output_type": "execute_result"
    }
   ],
   "source": [
    "tag_list = list(posts['Tags'].str.split('><'))\n",
    "my_list  = list()\n",
    "\n",
    "\n",
    "for tags in tag_list:\n",
    "    for tag in tags:\n",
    "        my_list.append(tag)\n",
    "        \n",
    "count_list = [[my_list.count(tag),tag] for tag in set(my_list)]\n",
    "\n",
    "count_list.sort(reverse=True)\n",
    "tag = count_list[0]\n",
    "\n",
    "'The number of uses, and the most common post tag {}'.format(tag)"
   ]
  },
  {
   "cell_type": "markdown",
   "metadata": {},
   "source": [
    "8.Create a pivot table displaying how many posts were created for each year (Y axis) and\n",
    "each month (X axis)"
   ]
  },
  {
   "cell_type": "code",
   "execution_count": 77,
   "metadata": {},
   "outputs": [
    {
     "data": {
      "text/html": [
       "<div>\n",
       "<style scoped>\n",
       "    .dataframe tbody tr th:only-of-type {\n",
       "        vertical-align: middle;\n",
       "    }\n",
       "\n",
       "    .dataframe tbody tr th {\n",
       "        vertical-align: top;\n",
       "    }\n",
       "\n",
       "    .dataframe thead th {\n",
       "        text-align: right;\n",
       "    }\n",
       "</style>\n",
       "<table border=\"1\" class=\"dataframe\">\n",
       "  <thead>\n",
       "    <tr style=\"text-align: right;\">\n",
       "      <th>Month</th>\n",
       "      <th>1</th>\n",
       "      <th>2</th>\n",
       "      <th>3</th>\n",
       "      <th>4</th>\n",
       "      <th>5</th>\n",
       "      <th>6</th>\n",
       "      <th>7</th>\n",
       "      <th>8</th>\n",
       "      <th>9</th>\n",
       "      <th>10</th>\n",
       "      <th>11</th>\n",
       "      <th>12</th>\n",
       "    </tr>\n",
       "    <tr>\n",
       "      <th>Year</th>\n",
       "      <th></th>\n",
       "      <th></th>\n",
       "      <th></th>\n",
       "      <th></th>\n",
       "      <th></th>\n",
       "      <th></th>\n",
       "      <th></th>\n",
       "      <th></th>\n",
       "      <th></th>\n",
       "      <th></th>\n",
       "      <th></th>\n",
       "      <th></th>\n",
       "    </tr>\n",
       "  </thead>\n",
       "  <tbody>\n",
       "    <tr>\n",
       "      <th>2011</th>\n",
       "      <td>NaN</td>\n",
       "      <td>NaN</td>\n",
       "      <td>NaN</td>\n",
       "      <td>NaN</td>\n",
       "      <td>NaN</td>\n",
       "      <td>NaN</td>\n",
       "      <td>NaN</td>\n",
       "      <td>NaN</td>\n",
       "      <td>NaN</td>\n",
       "      <td>1.0</td>\n",
       "      <td>15.0</td>\n",
       "      <td>140.0</td>\n",
       "    </tr>\n",
       "    <tr>\n",
       "      <th>2012</th>\n",
       "      <td>92.0</td>\n",
       "      <td>72.0</td>\n",
       "      <td>62.0</td>\n",
       "      <td>88.0</td>\n",
       "      <td>93.0</td>\n",
       "      <td>105.0</td>\n",
       "      <td>105.0</td>\n",
       "      <td>81.0</td>\n",
       "      <td>60.0</td>\n",
       "      <td>75.0</td>\n",
       "      <td>77.0</td>\n",
       "      <td>155.0</td>\n",
       "    </tr>\n",
       "    <tr>\n",
       "      <th>2013</th>\n",
       "      <td>129.0</td>\n",
       "      <td>99.0</td>\n",
       "      <td>107.0</td>\n",
       "      <td>92.0</td>\n",
       "      <td>130.0</td>\n",
       "      <td>120.0</td>\n",
       "      <td>134.0</td>\n",
       "      <td>143.0</td>\n",
       "      <td>64.0</td>\n",
       "      <td>NaN</td>\n",
       "      <td>NaN</td>\n",
       "      <td>NaN</td>\n",
       "    </tr>\n",
       "  </tbody>\n",
       "</table>\n",
       "</div>"
      ],
      "text/plain": [
       "Month     1     2      3     4      5      6      7      8     9     10    11  \\\n",
       "Year                                                                            \n",
       "2011     NaN   NaN    NaN   NaN    NaN    NaN    NaN    NaN   NaN   1.0  15.0   \n",
       "2012    92.0  72.0   62.0  88.0   93.0  105.0  105.0   81.0  60.0  75.0  77.0   \n",
       "2013   129.0  99.0  107.0  92.0  130.0  120.0  134.0  143.0  64.0   NaN   NaN   \n",
       "\n",
       "Month     12  \n",
       "Year          \n",
       "2011   140.0  \n",
       "2012   155.0  \n",
       "2013     NaN  "
      ]
     },
     "execution_count": 77,
     "metadata": {},
     "output_type": "execute_result"
    }
   ],
   "source": [
    "posts['Year'] = posts['CreationDate'].dt.year\n",
    "posts['Month'] = posts['CreationDate'].dt.month\n",
    "\n",
    "posts.pivot_table(index = 'Year', columns ='Month', values='Id', aggfunc='count')"
   ]
  }
 ],
 "metadata": {
  "kernelspec": {
   "display_name": "Python 3",
   "language": "python",
   "name": "python3"
  },
  "language_info": {
   "codemirror_mode": {
    "name": "ipython",
    "version": 3
   },
   "file_extension": ".py",
   "mimetype": "text/x-python",
   "name": "python",
   "nbconvert_exporter": "python",
   "pygments_lexer": "ipython3",
   "version": "3.8.5"
  }
 },
 "nbformat": 4,
 "nbformat_minor": 4
}
